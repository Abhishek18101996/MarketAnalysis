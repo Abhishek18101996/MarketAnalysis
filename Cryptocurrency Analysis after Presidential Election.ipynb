{
 "cells": [
  {
   "cell_type": "markdown",
   "metadata": {},
   "source": [
    "# Cryptocurrency Analysis after Presidential Election - Buy and Hold\n",
    "\n",
    "In this project, I am going to analyze Bitcoin and Ethereum or Litecoin  as these 2 were the most profitable coins after the presidential elections in USA and try to invest using buy and hold strategy. \n",
    "I'll be going through the analysis of these 3 cryptocurrencies and try to give an objective answer."
   ]
  },
  {
   "cell_type": "markdown",
   "metadata": {},
   "source": [
    "Cryptocurrencies are becoming mainstream so I designed a streamline code to download daily Bitcoin prices and apply a simple trading strategy to it. \n",
    "\n",
    "There are various tools available for performing this kind of analysis, I'm using stockstats [stockstats](https://github.com/jealous/stockstats) which enables more in-depth analysis. And [cryptocompare api](https://www.cryptocompare.com/api/#introduction) to read and download the data."
   ]
  },
  {
   "cell_type": "markdown",
   "metadata": {},
   "source": [
    "I'll also describe a buy and hold strategy to further analyze and create a portfolio.\n",
    "\n",
    "## Disclaimer\n",
    "The purpose of this project is not a financial advice. This is purely my introductory knowledge and am trying to understand and learn more about this market."
   ]
  },
  {
   "cell_type": "markdown",
   "metadata": {},
   "source": [
    "## Getting cryptocurrency data\n",
    "\n",
    "We download daily Bitcoin data in USD on Bitstamp exchange. [Other exchanges](https://www.cryptocompare.com/api/#introduction) are also supported.  "
   ]
  },
  {
   "cell_type": "code",
   "execution_count": null,
   "metadata": {},
   "outputs": [],
   "source": [
    "from_symbol = 'BTC'\n",
    "to_symbol = 'USD'\n",
    "exchange = 'Bitstamp'\n",
    "datetime_interval = 'day'"
   ]
  },
  {
   "cell_type": "markdown",
   "metadata": {},
   "source": [
    "The cryptocompare api returns following features/attributes:\n",
    " - **open**, the price at which the period opened,\n",
    " - **high**, the highest price reached during the period,\n",
    " - **low**, the lowest price reached during the period,\n",
    " - **close**, the price at which the period closed,\n",
    " - **volumefrom**, the volume in the base currency that things are traded into,\n",
    " - **volumeto**, the volume in the currency that is being traded.\n",
    " \n",
    "We download the data and store it to a file."
   ]
  },
  {
   "cell_type": "code",
   "execution_count": null,
   "metadata": {},
   "outputs": [],
   "source": [
    "import requests\n",
    "import pandas as pd\n",
    "from datetime import datetime\n",
    "\n",
    "\n",
    "def get_filename(from_symbol, to_symbol, exchange, datetime_interval, download_date):\n",
    "    return '%s_%s_%s_%s_%s.csv' % (from_symbol, to_symbol, exchange, datetime_interval, download_date)\n",
    "\n",
    "\n",
    "def download_data(from_symbol, to_symbol, exchange, datetime_interval):\n",
    "    supported_intervals = {'minute', 'hour', 'day'}\n",
    "    assert datetime_interval in supported_intervals,           'datetime_interval should be one of %s' % supported_intervals\n",
    "\n",
    "    print('Downloading %s trading data for %s %s from %s' %\n",
    "          (datetime_interval, from_symbol, to_symbol, exchange))\n",
    "    base_url = 'https://min-api.cryptocompare.com/data/histo'\n",
    "    url = '%s%s' % (base_url, datetime_interval)\n",
    "\n",
    "    params = {'fsym': from_symbol, 'tsym': to_symbol,\n",
    "              'limit': 2000, 'aggregate': 1,\n",
    "              'e': exchange}\n",
    "    request = requests.get(url, params=params)\n",
    "    data = request.json()\n",
    "    return data\n",
    "\n",
    "\n",
    "def convert_to_dataframe(data):\n",
    "    df = pd.io.json.json_normalize(data, ['Data'])\n",
    "    df['datetime'] = pd.to_datetime(df.time, unit='s')\n",
    "    df = df[['datetime', 'low', 'high', 'open',\n",
    "             'close', 'volumefrom', 'volumeto']]\n",
    "    return df\n",
    "\n",
    "\n",
    "def filter_empty_datapoints(df):\n",
    "    indices = df[df.sum(axis=1) == 0].index\n",
    "    print('Filtering %d empty datapoints' % indices.shape[0])\n",
    "    df = df.drop(indices)\n",
    "    return df\n",
    "\n",
    "\n",
    "data = download_data(from_symbol, to_symbol, exchange, datetime_interval)\n",
    "df = convert_to_dataframe(data)\n",
    "df = filter_empty_datapoints(df)\n",
    "\n",
    "# current_datetime = datetime.now().date().isoformat()\n",
    "current_datetime = '2017-01-01'\n",
    "filename = get_filename(from_symbol, to_symbol, exchange, datetime_interval, current_datetime)\n",
    "print('Saving data to %s' % filename)\n",
    "df.to_csv(filename, index=False)"
   ]
  },
  {
   "cell_type": "markdown",
   "metadata": {},
   "source": [
    "## Read the data\n",
    "\n",
    "We read the data from a file so we don't need to download it again."
   ]
  },
  {
   "cell_type": "code",
   "execution_count": null,
   "metadata": {},
   "outputs": [],
   "source": [
    "import pandas as pd\n",
    "\n",
    "def read_dataset(filename):\n",
    "    print('Reading data from %s' % filename)\n",
    "    df = pd.read_csv(filename)\n",
    "    df.datetime = pd.to_datetime(df.datetime) # change type from object to datetime\n",
    "    df = df.set_index('datetime') \n",
    "    df = df.sort_index() # sort by datetime\n",
    "    print(df.shape)\n",
    "    return df\n",
    "\n",
    "df = read_dataset(filename)"
   ]
  },
  {
   "cell_type": "markdown",
   "metadata": {},
   "source": [
    "##  Trading strategy\n",
    "\n",
    "A trading strategy is a set of objective rules defining the conditions that must be met for a trade entry and exit to occur. \n",
    "\n",
    "We are going to apply Moving Average Convergence Divergence (MACD) trading strategy, which is a popular indicator used in technical analysis. \n",
    "MACD calculates two moving averages of varying lengths to identify trend direction and duration.\n",
    "Then, it takes the difference in values between those two moving averages (MACD line) \n",
    "and an exponential moving average (signal line) of those moving averages."
   ]
  },
  {
   "cell_type": "markdown",
   "metadata": {},
   "source": [
    "## Calculating the trading strategy\n",
    "I'm using [stockstats](https://github.com/jealous/stockstats) package to calculate MACD."
   ]
  },
  {
   "cell_type": "code",
   "execution_count": null,
   "metadata": {},
   "outputs": [],
   "source": [
    "from stockstats import StockDataFrame\n",
    "df = StockDataFrame.retype(df)\n",
    "df['macd'] = df.get('macd') # calculate MACD"
   ]
  },
  {
   "cell_type": "markdown",
   "metadata": {},
   "source": [
    "stockstats adds 5 columns to dataset:\n",
    "- **close_12_ema** is fast 12 days exponential moving average,\n",
    "- **close_26_ema** is slow 26 days exponential moving average,\n",
    "- **macd** is MACD line,\n",
    "- **macds** is signal line,\n",
    "- **macdh** is MACD histogram."
   ]
  },
  {
   "cell_type": "code",
   "execution_count": null,
   "metadata": {},
   "outputs": [],
   "source": [
    "df.head()"
   ]
  },
  {
   "cell_type": "markdown",
   "metadata": {},
   "source": [
    "## Visualizing trading strategy \n",
    "\n",
    "We use bokeh interactive charts to plot the data.\n",
    "\n",
    "The line graph shows daily closing prices with candlesticks (zoom in).\n",
    "A candlestick displays the high, low, opening  and closing prices \n",
    "for a specific period. Tradeview has a great blogpost about \n",
    "[candlestick graph](https://www.investopedia.com/terms/c/candlestick.asp).\n",
    "\n",
    "Below the line graph we plot the MACD strategy with MACD line (blue), signal line (orange) and histogram (purple)."
   ]
  },
  {
   "cell_type": "code",
   "execution_count": null,
   "metadata": {
    "scrolled": false
   },
   "outputs": [],
   "source": [
    "from math import pi\n",
    "\n",
    "from bokeh.plotting import figure, show, output_notebook, output_file\n",
    "output_notebook()\n",
    "\n",
    "datetime_from = '2016-01-01 00:00'\n",
    "datetime_to = '2017-12-10 00:00'\n",
    "\n",
    "\n",
    "def get_candlestick_width(datetime_interval):\n",
    "    if datetime_interval == 'minute':\n",
    "        return 30 * 60 * 1000  # half minute in ms\n",
    "    elif datetime_interval == 'hour':\n",
    "        return 0.5 * 60 * 60 * 1000  # half hour in ms\n",
    "    elif datetime_interval == 'day':\n",
    "        return 12 * 60 * 60 * 1000  # half day in ms\n",
    "\n",
    "\n",
    "df_limit = df[datetime_from: datetime_to].copy()\n",
    "inc = df_limit.close > df_limit.open\n",
    "dec = df_limit.open > df_limit.close\n",
    "\n",
    "title = '%s datapoints from %s to %s for %s and %s from %s with MACD strategy' % (\n",
    "    datetime_interval, datetime_from, datetime_to, from_symbol, to_symbol, exchange)\n",
    "p = figure(x_axis_type=\"datetime\",  plot_width=1000, title=title)\n",
    "\n",
    "p.line(df_limit.index, df_limit.close, color='black')\n",
    "\n",
    "# plot macd strategy\n",
    "p.line(df_limit.index, 0, color='black')\n",
    "p.line(df_limit.index, df_limit.macd, color='blue')\n",
    "p.line(df_limit.index, df_limit.macds, color='orange')\n",
    "p.vbar(x=df_limit.index, bottom=[\n",
    "       0 for _ in df_limit.index], top=df_limit.macdh, width=4, color=\"purple\")\n",
    "\n",
    "# plot candlesticks\n",
    "candlestick_width = get_candlestick_width(datetime_interval)\n",
    "p.segment(df_limit.index, df_limit.high,\n",
    "          df_limit.index, df_limit.low, color=\"black\")\n",
    "p.vbar(df_limit.index[inc], candlestick_width, df_limit.open[inc],\n",
    "       df_limit.close[inc], fill_color=\"#D5E1DD\", line_color=\"black\")\n",
    "p.vbar(df_limit.index[dec], candlestick_width, df_limit.open[dec],\n",
    "       df_limit.close[dec], fill_color=\"#F2583E\", line_color=\"black\")\n",
    "\n",
    "output_file(\"visualizing_trading_strategy.html\", title=\"visualizing trading strategy\")\n",
    "show(p)"
   ]
  },
  {
   "cell_type": "markdown",
   "metadata": {},
   "source": [
    "## Getting the data\n",
    "\n",
    "To get the latest data, see [previous blog post]({{site.url}}/cryptocurrency/analysis/2017/12/17/cryptocurrency-analysis-with-python-part1.html),\n",
    "where I described how to download it using Cryptocompare API.\n",
    "You can also use the [data]({{site.url}}/assets/data/) I worked with in this example.\n",
    "\n",
    "First, we download hourly data for BTC, ETH and LTC from Coinbase exchange.\n",
    "This time we work with hourly time interval as it has higher granularity.\n",
    "Cryptocompare API limits response to 2000 samples, which is 2.7 months of data for each coin."
   ]
  },
  {
   "cell_type": "markdown",
   "metadata": {},
   "source": [
    "## Loading Data"
   ]
  },
  {
   "cell_type": "code",
   "execution_count": null,
   "metadata": {},
   "outputs": [],
   "source": [
    "# for BTC\n",
    "data = download_data(from_symbol, to_symbol, exchange, datetime_interval)\n",
    "df = convert_to_dataframe(data)\n",
    "df = filter_empty_datapoints(df)\n",
    "\n",
    "# current_datetime = datetime.now().date().isoformat()\n",
    "current_datetime = '2017-12-31'\n",
    "filename = get_filename(from_symbol, to_symbol, exchange, datetime_interval, current_datetime)\n",
    "print('Saving data to %s' % filename)\n",
    "df.to_csv(filename, index=False)\n",
    "df_btc = read_dataset(filename)\n",
    "\n",
    "# for ETH\n",
    "from_symbol = 'ETH'\n",
    "data = download_data(from_symbol, to_symbol, exchange, datetime_interval)\n",
    "df = convert_to_dataframe(data)\n",
    "df = filter_empty_datapoints(df)\n",
    "\n",
    "# current_datetime = datetime.now().date().isoformat()\n",
    "current_datetime = '2017-12-31'\n",
    "filename = get_filename(from_symbol, to_symbol, exchange, datetime_interval, current_datetime)\n",
    "print('Saving data to %s' % filename)\n",
    "df.to_csv(filename, index=False)\n",
    "df_eth = read_dataset(filename)\n",
    "\n",
    "# for LTC\n",
    "from_symbol = 'LTC'\n",
    "data = download_data(from_symbol, to_symbol, exchange, datetime_interval)\n",
    "df = convert_to_dataframe(data)\n",
    "df = filter_empty_datapoints(df)\n",
    "\n",
    "# current_datetime = datetime.now().date().isoformat()\n",
    "current_datetime = '2017-12-31'\n",
    "filename = get_filename(from_symbol, to_symbol, exchange, datetime_interval, current_datetime)\n",
    "print('Saving data to %s' % filename)\n",
    "df.to_csv(filename, index=False)\n",
    "df_ltc = read_dataset(filename)"
   ]
  },
  {
   "cell_type": "markdown",
   "metadata": {},
   "source": [
    "## Extracting the closing prices\n",
    "We are going to analyze closing prices, which are prices at which the daily period closed. \n",
    "We merge BTC, ETH and LTC closing prices to a Dataframe to make analysis easier."
   ]
  },
  {
   "cell_type": "code",
   "execution_count": null,
   "metadata": {},
   "outputs": [],
   "source": [
    "df = pd.DataFrame({'BTC': df_btc.close,\n",
    "                   'ETH': df_eth.close,\n",
    "                   'LTC': df_ltc.close})\n",
    "\n",
    "df.head()"
   ]
  },
  {
   "cell_type": "code",
   "execution_count": null,
   "metadata": {},
   "outputs": [],
   "source": [
    "df.isnull().sum()"
   ]
  },
  {
   "cell_type": "code",
   "execution_count": null,
   "metadata": {},
   "outputs": [],
   "source": [
    "df.shape"
   ]
  },
  {
   "cell_type": "code",
   "execution_count": null,
   "metadata": {},
   "outputs": [],
   "source": [
    "df.dropna(axis = 0, inplace=True)"
   ]
  },
  {
   "cell_type": "code",
   "execution_count": null,
   "metadata": {},
   "outputs": [],
   "source": [
    "df.isnull().sum()"
   ]
  },
  {
   "cell_type": "code",
   "execution_count": null,
   "metadata": {},
   "outputs": [],
   "source": [
    "df.head()"
   ]
  },
  {
   "cell_type": "markdown",
   "metadata": {},
   "source": [
    "## Analysis\n",
    "\n",
    "### Basic statistics\n",
    "\n",
    "In 2.7 months, all three cryptocurrencies fluctuated a lot as you can observe in the table below. \n",
    "\n",
    "For each coin, we count the number of events and calculate mean, standard deviation, minimum, quartiles and maximum closing price. Quartiles divide the data into four equal groups, each group comprising a quarter of the data.\n",
    "\n",
    "**Few interesting facts**\n",
    "- The difference between the highest and the lowest BTC price was more than \\$15000 in 2.7 months.\n",
    "- The LTC surged from \\$48.61 to \\$378.66 at a certain point, which is an increase of 678.98%."
   ]
  },
  {
   "cell_type": "code",
   "execution_count": null,
   "metadata": {},
   "outputs": [],
   "source": [
    "df.describe()"
   ]
  },
  {
   "cell_type": "markdown",
   "metadata": {},
   "source": [
    "We visualize the data in the table above with a box plot. \n",
    "A box plot shows the quartiles of the dataset with points that are determined to be outliers using a method of the [inter-quartile range](https://en.wikipedia.org/wiki/Interquartile_range) (IQR). \n",
    "`IQR = Q3 − Q1`. \n",
    "In other words, the IQR is the first quartile (25%) subtracted from the third quartile (75%).\n",
    "\n",
    "On the box plot below, \n",
    "we see that LTC closing hourly price was most of the time between \\$50 and \\$100 in the last 2.7 months. \n",
    "All values over \\$150 are outliers (using IQR) in our sample."
   ]
  },
  {
   "cell_type": "code",
   "execution_count": null,
   "metadata": {},
   "outputs": [],
   "source": [
    "import seaborn as sns\n",
    "\n",
    "ax = sns.boxplot(data=df['LTC'], orient=\"h\")"
   ]
  },
  {
   "cell_type": "markdown",
   "metadata": {},
   "source": [
    "Let's estimate the frequency distribution of LTC closing prices. \n",
    "\n",
    "**Observations**\n",
    "- it shows the number of hours LTC had a certain value. For example, we can observe that LTC closing price was not over \\$100 for many hours.\n",
    "- it has right-skewed distribution because a natural limit prevents outcomes on one side.\n",
    "- blue dotted line (median) shows that half of the closing prices were under 63.50\\$."
   ]
  },
  {
   "cell_type": "code",
   "execution_count": null,
   "metadata": {},
   "outputs": [],
   "source": [
    "df['LTC'].hist(bins=30, figsize=(15,10)).axvline(df['LTC'].median(), color='b', linestyle='dashed', linewidth=2)"
   ]
  },
  {
   "cell_type": "markdown",
   "metadata": {},
   "source": [
    "### Visualize absolute closing prices"
   ]
  },
  {
   "cell_type": "code",
   "execution_count": null,
   "metadata": {},
   "outputs": [],
   "source": [
    "df.plot(grid=True, figsize=(15, 10))"
   ]
  },
  {
   "cell_type": "markdown",
   "metadata": {},
   "source": [
    "### Visualize relative changes of closing prices\n",
    "\n",
    "We are interested in a relative change of the price \n",
    "rather than in absolute price, so we use three different scales.\n",
    "\n",
    "We see that closing prices move in tandem. When one coin closing price increases so do the other."
   ]
  },
  {
   "cell_type": "code",
   "execution_count": null,
   "metadata": {},
   "outputs": [],
   "source": [
    "import matplotlib.pyplot as plt\n",
    "import numpy as np\n",
    "\n",
    "fig, ax1 = plt.subplots(figsize=(20, 10))\n",
    "ax2 = ax1.twinx()\n",
    "rspine = ax2.spines['right']\n",
    "rspine.set_position(('axes', 1.15))\n",
    "ax2.set_frame_on(True)\n",
    "ax2.patch.set_visible(False)\n",
    "fig.subplots_adjust(right=0.7)\n",
    "\n",
    "df['BTC'].plot(ax=ax1, style='b-')\n",
    "df['ETH'].plot(ax=ax1, style='r-', secondary_y=True)\n",
    "df['LTC'].plot(ax=ax2, style='g-')\n",
    "\n",
    "# legend\n",
    "ax2.legend([ax1.get_lines()[0],\n",
    "            ax1.right_ax.get_lines()[0],\n",
    "            ax2.get_lines()[0]],\n",
    "           ['BTC', 'ETH', 'LTC'])"
   ]
  },
  {
   "cell_type": "markdown",
   "metadata": {},
   "source": [
    "### Measure correlation of closing prices \n",
    "\n",
    "We calculate [Pearson correlation](https://en.wikipedia.org/wiki/Pearson_correlation_coefficient)\n",
    "between closing prices of BTC, ETH and LTC. \n",
    "Pearson correlation is a measure of the linear correlation between two variables X and Y. \n",
    "It has a value between +1 and −1, where 1 is total positive linear correlation, 0 is no linear correlation, and −1 is total negative linear correlation.\n",
    "\n",
    "[Sifr Data](https://www.sifrdata.com/cryptocurrency-correlation-matrix/) daily updates Pearson correlations for many cryptocurrencies.\n",
    "\n",
    "**Observations**\n",
    "- Corelation matrix is symetric so we only show the lower half. \n",
    "- BTC, ETH and LTC were highly correlated in past 2 months. This means, when BTC closing price increased, ETH and LTC followed. \n",
    "- ETH and LTC were even more correlated with 0.9565 Pearson correlation coefficient."
   ]
  },
  {
   "cell_type": "code",
   "execution_count": null,
   "metadata": {},
   "outputs": [],
   "source": [
    "import seaborn as sns\n",
    "import matplotlib.pyplot as plt\n",
    "\n",
    "# Compute the correlation matrix\n",
    "corr = df.corr()\n",
    "\n",
    "# Generate a mask for the upper triangle\n",
    "mask = np.zeros_like(corr, dtype=np.bool)\n",
    "mask[np.triu_indices_from(mask)] = True\n",
    "\n",
    "# Set up the matplotlib figure\n",
    "f, ax = plt.subplots(figsize=(10, 10))\n",
    "\n",
    "# Draw the heatmap with the mask and correct aspect ratio\n",
    "sns.heatmap(corr, annot=True, fmt = '.4f', mask=mask, center=0, square=True, linewidths=.5)"
   ]
  },
  {
   "cell_type": "markdown",
   "metadata": {},
   "source": [
    "## Buy and hold strategy\n",
    "\n",
    "[Buy and hold](https://www.investopedia.com/terms/b/buyandhold.asp) is a passive investment strategy in which an investor buys a cryptocurrency and holds it for a long period of time, regardless of fluctuations in the market. \n",
    "\n",
    "Let's analyze returns using buy and hold strategy for past 2.7 months. \n",
    "We calculate the return percentage, where $t$ represents a certain time period and $price_0$ is initial closing price:\n",
    "\n",
    "$$\n",
    "return_{t, 0} = \\frac{price_t}{price_0}\n",
    "$$"
   ]
  },
  {
   "cell_type": "code",
   "execution_count": null,
   "metadata": {},
   "outputs": [],
   "source": [
    "df_return = df.apply(lambda x: x / x[0])\n",
    "df_return.head()"
   ]
  },
  {
   "cell_type": "markdown",
   "metadata": {},
   "source": [
    "### Visualize returns\n",
    "\n",
    "We show that LTC was the most profitable for time period between October 2, 2017 and December 24, 2017."
   ]
  },
  {
   "cell_type": "code",
   "execution_count": null,
   "metadata": {},
   "outputs": [],
   "source": [
    "df_return.plot(grid=True, figsize=(15, 10)).axhline(y = 1, color = \"black\", lw = 2)"
   ]
  },
  {
   "cell_type": "markdown",
   "metadata": {},
   "source": [
    "## Conclusion\n",
    "\n",
    "The cryptocurrencies we analyzed fluctuated a lot but all of gained in given 2.7 months period."
   ]
  },
  {
   "cell_type": "markdown",
   "metadata": {},
   "source": [
    "### What is the percentage increase?"
   ]
  },
  {
   "cell_type": "code",
   "execution_count": null,
   "metadata": {},
   "outputs": [],
   "source": [
    "df_perc = df_return.tail(1) * 100\n",
    "ax = sns.barplot(data=df_perc)\n",
    "df_perc"
   ]
  },
  {
   "cell_type": "markdown",
   "metadata": {},
   "source": [
    "### How many coins could we bought for $1000?"
   ]
  },
  {
   "cell_type": "code",
   "execution_count": null,
   "metadata": {},
   "outputs": [],
   "source": [
    "budget = 1000 # USD\n",
    "df_coins = budget/df.head(1)\n",
    "\n",
    "ax = sns.barplot(data=df_coins)\n",
    "df_coins"
   ]
  },
  {
   "cell_type": "markdown",
   "metadata": {},
   "source": [
    "### How much money would we make?"
   ]
  },
  {
   "cell_type": "code",
   "execution_count": null,
   "metadata": {},
   "outputs": [],
   "source": [
    "df_profit = df_return.tail(1) * budget\n",
    "\n",
    "ax = sns.barplot(data=df_profit)\n",
    "df_profit"
   ]
  }
 ],
 "metadata": {
  "kernelspec": {
   "display_name": "Python 3 (ipykernel)",
   "language": "python",
   "name": "python3"
  },
  "language_info": {
   "codemirror_mode": {
    "name": "ipython",
    "version": 3
   },
   "file_extension": ".py",
   "mimetype": "text/x-python",
   "name": "python",
   "nbconvert_exporter": "python",
   "pygments_lexer": "ipython3",
   "version": "3.9.13"
  }
 },
 "nbformat": 4,
 "nbformat_minor": 2
}
